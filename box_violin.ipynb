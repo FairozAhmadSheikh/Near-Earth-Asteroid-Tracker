{
 "cells": [
  {
   "cell_type": "markdown",
   "id": "64edb7c2",
   "metadata": {},
   "source": [
    "Assignment : Box and voilin plot created out of semester marks\n"
   ]
  },
  {
   "cell_type": "code",
   "execution_count": 1,
   "id": "1cb5dcbf",
   "metadata": {},
   "outputs": [],
   "source": [
    "marks_dict = {\n",
    "    \"Machine Learning\": 75,\n",
    "    \"Mathematical Foundations for Machine Learning\": 83,\n",
    "    \"Machine Learning Lab\": 76,\n",
    "    \"Python Programming Language\": 89,\n",
    "    \"Python Programming Language Lab\": 98,\n",
    "    \"Soft Computing Techniques\": 75\n",
    "}\n"
   ]
  },
  {
   "cell_type": "code",
   "execution_count": null,
   "id": "fe9dbc50",
   "metadata": {},
   "outputs": [],
   "source": []
  }
 ],
 "metadata": {
  "kernelspec": {
   "display_name": "base",
   "language": "python",
   "name": "python3"
  },
  "language_info": {
   "codemirror_mode": {
    "name": "ipython",
    "version": 3
   },
   "file_extension": ".py",
   "mimetype": "text/x-python",
   "name": "python",
   "nbconvert_exporter": "python",
   "pygments_lexer": "ipython3",
   "version": "3.12.7"
  }
 },
 "nbformat": 4,
 "nbformat_minor": 5
}
