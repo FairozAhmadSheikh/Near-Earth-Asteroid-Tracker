{
 "cells": [
  {
   "cell_type": "markdown",
   "id": "64edb7c2",
   "metadata": {},
   "source": [
    "Assignment : Box and voilin plot created out of semester marks\n"
   ]
  }
 ],
 "metadata": {
  "language_info": {
   "name": "python"
  }
 },
 "nbformat": 4,
 "nbformat_minor": 5
}
